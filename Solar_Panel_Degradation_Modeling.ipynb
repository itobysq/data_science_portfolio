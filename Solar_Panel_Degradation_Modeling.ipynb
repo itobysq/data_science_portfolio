{
 "metadata": {
  "name": "",
  "signature": "sha256:e2ce6d8098a31171760d8e50a37e479917671d5a87c8e50c8ff035c121a2cb8f"
 },
 "nbformat": 3,
 "nbformat_minor": 0,
 "worksheets": [
  {
   "cells": [
    {
     "cell_type": "code",
     "collapsed": false,
     "input": [
      "import pandas as pd\n",
      "import numpy as np\n",
      "import matplotlib.pyplot as plt\n",
      "import xlrd\n",
      "import collections as col\n",
      "from sklearn.linear_model import LinearRegression\n",
      "from sklearn.metrics import r2_score\n",
      "from scipy import stats"
     ],
     "language": "python",
     "metadata": {},
     "outputs": []
    },
    {
     "cell_type": "code",
     "collapsed": false,
     "input": [
      "datapath = \"C:\\\\Users\\\\toby\\\\Documents\\\\Jobsearch\\\\DataScience\\\\data_science_portfolio\\\\Unlimited12102013.xls\""
     ],
     "language": "python",
     "metadata": {},
     "outputs": []
    },
    {
     "cell_type": "code",
     "collapsed": false,
     "input": [
      "# import the data as a panda dataframe\n",
      "df = pd.read_excel(datapath,sheetname=\"Pmax\", index_col='hour')\n",
      "df.head(4)"
     ],
     "language": "python",
     "metadata": {},
     "outputs": []
    },
    {
     "cell_type": "code",
     "collapsed": false,
     "input": [
      "#first, let's explore the data, any device with a normalized power greater than 1.3 has a problem\n",
      "df = df[df.columns[df.max()<1.5]]\n",
      "def plotchart(df):\n",
      "    plt.figure();\n",
      "    ax = df.plot()\n",
      "    ax.set_ylabel('normalized power')\n",
      "    ax.set_xlabel('hours')\n",
      "plotchart(df)"
     ],
     "language": "python",
     "metadata": {},
     "outputs": []
    },
    {
     "cell_type": "code",
     "collapsed": false,
     "input": [
      "#clearly something is wrong with 'std_7_2' so let's remove it...\n",
      "del df[\"'inv_3_2'\"]\n",
      "plotchart(df)"
     ],
     "language": "python",
     "metadata": {},
     "outputs": []
    },
    {
     "cell_type": "code",
     "collapsed": false,
     "input": [
      "# what we are most interested in is the t80 point, or the time, \n",
      "# that it takes for the performance to reach 80% of the initial\n",
      "# burn in, first we'll make the cutoff at 1300 hours as shown\n",
      "# in Peters C. P., Sachs-Quintana, I.T. et al\n",
      "xlin = np.array(df.index[1300:])\n",
      "ylin = np.array(df.iloc[1300:,1])\n",
      "xlin= xlin.reshape(len(xlin),1)\n",
      "ylin =ylin.reshape(len(ylin),1)\n",
      "\n",
      "\n",
      "linreg = LinearRegression()\n",
      "linreg.fit(xlin,ylin)\n",
      "\n",
      "def fiteq1(x,a, b):\n",
      "    return [a*i + b for i in x]\n",
      "outlin = fiteq1(xlin,float(linreg.coef_), float(linreg.intercept_))\n",
      "#plot outputs\n",
      "plt.scatter(xlin,ylin, color = 'black')\n",
      "plt.plot(xlin, linreg.predict(xlin), color='blue')\n",
      "plt.show()\n"
     ],
     "language": "python",
     "metadata": {},
     "outputs": []
    },
    {
     "cell_type": "code",
     "collapsed": false,
     "input": [
      "#cool it works, now let's make a table showing device name, slope, and r2 in one row\n",
      "target = 1\n",
      "\n",
      "# condition and scrub the array\n",
      "def reshape(df, target):\n",
      "    xlin = np.array(df.index[1300:])\n",
      "    ylin = np.array(df.iloc[1300:,target])\n",
      "    xlin= xlin.reshape(len(xlin),1)\n",
      "    ylin =ylin.reshape(len(ylin),1)\n",
      "    return xlin, ylin"
     ],
     "language": "python",
     "metadata": {},
     "outputs": []
    },
    {
     "cell_type": "code",
     "collapsed": false,
     "input": [
      "# get linear regression statistics\n",
      "def linreg_stats(xlin, ylin):\n",
      "    linreg = LinearRegression();\n",
      "    linreg.fit(xlin,ylin);\n",
      "    predy = fiteq1(xlin, float(linreg.coef_), float(linreg.intercept_))\n",
      "    r2 = r2_score(ylin, predy)\n",
      "    return r2, float(linreg.coef_),float(linreg.intercept_)"
     ],
     "language": "python",
     "metadata": {},
     "outputs": []
    },
    {
     "cell_type": "code",
     "collapsed": false,
     "input": [
      "slopes = []\n",
      "r2s = []\n",
      "for ii in range(len(df.columns)):\n",
      "    xlin, ylin = reshape(df,ii)\n",
      "    r, co, inte = linreg_stats(xlin,ylin);\n",
      "    slopes.append(co)\n",
      "    r2s.append(r)\n"
     ],
     "language": "python",
     "metadata": {},
     "outputs": []
    },
    {
     "cell_type": "code",
     "collapsed": false,
     "input": [
      "# Now let's use a t-test, but first we need to see if the variances are equal\n",
      "s2inv = stats.tvar(slopes[:3])\n",
      "s2std = stats.tvar(slopes[3:])\n",
      "print(\"the variance for inverted devices is \"+str(s2inv) )\n",
      "print(\"the variance for standard devices is \"+str(s2std) )"
     ],
     "language": "python",
     "metadata": {},
     "outputs": []
    },
    {
     "cell_type": "code",
     "collapsed": false,
     "input": [
      "# so, clearly the varinaces aren't equal, we'll have to take the welch's \n",
      "# t-test for unequal distributions and unequal sample size\n",
      "invs = slopes[:3]\n",
      "stds = slopes[3:]\n",
      "stats.ttest_ind(stds,invs,axis=0,equal_var=False)\n"
     ],
     "language": "python",
     "metadata": {},
     "outputs": []
    },
    {
     "cell_type": "code",
     "collapsed": false,
     "input": [
      "# So yes, the degradation rate of the two different devices\n",
      "# are significanly different"
     ],
     "language": "python",
     "metadata": {},
     "outputs": []
    },
    {
     "cell_type": "code",
     "collapsed": false,
     "input": [
      "# Now, let's see if we can develop a model for the exponential loss\n",
      "# for our first model, we'll assume a simple exponential decay\n",
      "# ho = exp(-x1*t1)\n",
      "# to implement this, we'll use a gradient decent\n",
      "\n",
      "# input our initital guesses and set the # of iterations\n",
      "\n",
      "# grab x and y arrays (we'll have to transform y using log to we can use \n",
      "# python's fit routines)\n",
      "x = pd.Series(df.index)\n",
      "y = log(df[\"'inv_2_2'\"])\n",
      "x= x.reshape(len(x),1)\n",
      "y =y.reshape(len(x),1)\n",
      "\n",
      "from sklearn.linear_model import LinearRegression\n",
      "linreg = LinearRegression()\n",
      "linreg.fit(x,y)\n",
      "\n",
      "#plot outputs\n",
      "plt.scatter(x,y, color = 'black')\n",
      "plt.plot(x, linreg.predict(x), color='blue')\n",
      "plt.show()"
     ],
     "language": "python",
     "metadata": {},
     "outputs": []
    },
    {
     "cell_type": "code",
     "collapsed": false,
     "input": [
      "#clearly there's a high bias with just one term,\n",
      "# let's try a 2nd order regression, which would imply that \n",
      "# there is a second order reaction involved...\n",
      "\n",
      "#use numpy this time for funsies to do the polyfit\n",
      "x = pd.Series(df.index).tolist()\n",
      "y = log(df[\"'inv_2_2'\"]).tolist()\n",
      "coefs = np.polyfit(x, y, 2)\n",
      "def fiteq(x,coefs):\n",
      "    return [coefs[0]*i*i + i*coefs[1] + coefs[2] for i in x]\n",
      "print coefs\n",
      "ffit = fiteq(x,coefs)\n",
      "plt.scatter(x,y, color = 'black')\n",
      "plt.plot(x,ffit, color = 'blue')\n",
      "\n"
     ],
     "language": "python",
     "metadata": {},
     "outputs": []
    },
    {
     "cell_type": "code",
     "collapsed": false,
     "input": [
      "# that's a little bit better, now let's get rid of the log and see how it fit\n",
      "truey =df[\"'inv_2_2'\"]\n",
      "fity = exp(ffit)\n",
      "plt.scatter(x,truey, color = 'black')\n",
      "plt.plot(x,fity, color = 'blue')"
     ],
     "language": "python",
     "metadata": {},
     "outputs": []
    },
    {
     "cell_type": "code",
     "collapsed": false,
     "input": [
      "fity1 = exp(out1)\n",
      "plt.scatter(x,truey, color = 'black')\n",
      "plt.plot(x,fity1, color = 'blue')"
     ],
     "language": "python",
     "metadata": {},
     "outputs": []
    },
    {
     "cell_type": "code",
     "collapsed": false,
     "input": [
      "out11 = fiteq1(range(10000))"
     ],
     "language": "python",
     "metadata": {},
     "outputs": []
    },
    {
     "cell_type": "code",
     "collapsed": false,
     "input": [],
     "language": "python",
     "metadata": {},
     "outputs": []
    },
    {
     "cell_type": "code",
     "collapsed": false,
     "input": [],
     "language": "python",
     "metadata": {},
     "outputs": []
    }
   ],
   "metadata": {}
  }
 ]
}